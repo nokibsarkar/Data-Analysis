{
 "cells": [
  {
   "cell_type": "code",
   "execution_count": 35,
   "metadata": {},
   "outputs": [
    {
     "data": {
      "text/plain": [
       "Index(['Suburb', 'Address', 'Rooms', 'Type', 'Price', 'Method', 'SellerG',\n",
       "       'Date', 'Distance', 'Postcode', 'Bedroom2', 'Bathroom', 'Car',\n",
       "       'Landsize', 'BuildingArea', 'YearBuilt', 'CouncilArea', 'Lattitude',\n",
       "       'Longtitude', 'Regionname', 'Propertycount'],\n",
       "      dtype='object')"
      ]
     },
     "execution_count": 35,
     "metadata": {},
     "output_type": "execute_result"
    }
   ],
   "source": [
    "import pandas as pd\n",
    "from sklearn.preprocessing import LabelBinarizer, FunctionTransformer, Normalizer\n",
    "import matplotlib.pyplot as plt\n",
    "import numpy as np\n",
    "from datetime import datetime as dt\n",
    "from sklearn.metrics import mean_squared_error, r2_score\n",
    "from sklearn import linear_model\n",
    "from sklearn.neural_network import MLPRegressor\n",
    "# Create linear regression object\n",
    "regr_mlp = MLPRegressor(solver='lbfgs', hidden_layer_sizes=(20), random_state=1, max_iter=500, alpha=0.01)#\n",
    "regr = linear_model.LinearRegression()\n",
    "df = pd.read_csv('melb_data.csv')\n",
    "def label(column, raw=False):\n",
    "    lbl = LabelBinarizer()\n",
    "    if raw:\n",
    "        lbl.fit(column)\n",
    "        return lbl\n",
    "    return pd.DataFrame(lbl.fit_transform(column), columns=lbl.classes_)\n",
    "today = dt.now().date().toordinal() \n",
    "Date = pd.Series([today - dt.strptime(i, \"%d/%m/%Y\").date().toordinal() for i in df.Date])\n",
    "Data = np.log(Date)\n",
    "df.columns"
   ]
  },
  {
   "cell_type": "code",
   "execution_count": 3,
   "metadata": {},
   "outputs": [
    {
     "data": {
      "text/plain": [
       "0        3067.0\n",
       "1        3067.0\n",
       "2        3067.0\n",
       "3        3067.0\n",
       "4        3067.0\n",
       "          ...  \n",
       "13575    3150.0\n",
       "13576    3016.0\n",
       "13577    3016.0\n",
       "13578    3016.0\n",
       "13579    3013.0\n",
       "Name: Postcode, Length: 13580, dtype: float64"
      ]
     },
     "execution_count": 3,
     "metadata": {},
     "output_type": "execute_result"
    }
   ],
   "source": [
    "df.Postcode"
   ]
  },
  {
   "cell_type": "code",
   "execution_count": 4,
   "metadata": {},
   "outputs": [],
   "source": [
    "def outlier(column, m=1, plot = True):\n",
    "    Y = df.Price\n",
    "    setattr(Y,'name','Price')\n",
    "    #return Y.name\n",
    "    m = 0.9\n",
    "    ind = []\n",
    "    #return dir(Y)\n",
    "    X = pd.concat([column,Y], axis='columns')\n",
    "    X.dropna(inplace=True)\n",
    "    Y = np.log(X[[Y.name]])\n",
    "    X.drop(['Price'], axis='columns', inplace=True)\n",
    "    regr.fit(X, Y)\n",
    "    data = regr.coef_\n",
    "    y=  data * [abs(data - np.mean(data)) > m * np.std(data)]\n",
    "    if type(y[0]) == type(y):\n",
    "        y = y[0][0]\n",
    "    y = [ ind.append(i) or a if a else None for i, a in enumerate(y) ]\n",
    "    if plot:\n",
    "        plt.scatter(X.columns.map(str),y)\n",
    "        plt.xticks(())\n",
    "    return X.columns[ind]"
   ]
  },
  {
   "cell_type": "code",
   "execution_count": 5,
   "metadata": {},
   "outputs": [
    {
     "data": {
      "text/plain": [
       "Kaye            0.008581\n",
       "Keatings        0.008581\n",
       "Bullengarook    0.008581\n",
       "Emerald         0.008581\n",
       "dtype: float64"
      ]
     },
     "execution_count": 5,
     "metadata": {},
     "output_type": "execute_result"
    },
    {
     "data": {
      "image/png": "[encoded data removed]",
      "text/plain": [
       "<Figure size 432x288 with 1 Axes>"
      ]
     },
     "metadata": {
      "needs_background": "light"
     },
     "output_type": "display_data"
    }
   ],
   "source": [
    "# df.Date = datter.fit_transform(df.Date)\n",
    "types = label(df.Type)\n",
    "method=label(df.Method)\n",
    "suburb = label(df.Suburb)\n",
    "df.Regionname.unique()\n",
    "region = 1 * pd.DataFrame([('North' in i, 'West' in i, 'Metropolitan' in i) for i in df.Regionname], columns=['Northern', 'Western', 'Metropolitan'])\n",
    "sellerG = label(df.SellerG)\n",
    "seller = sellerG[outlier(sellerG, plot=False)]\n",
    "suburbE = suburb[outlier(suburb, 6, plot = False)]\n",
    "\n",
    "df.loc[:,('CouncilArea')] = df.CouncilArea.fillna('Unavailable')\n",
    "c_area = label(df.CouncilArea)\n",
    "post = label(df.Postcode)\n",
    "postE = post[outlier(post, plot=False)]\n",
    "all_sparse = pd.concat([sellerG, suburb], axis=1)\n",
    "all_sparseE = all_sparse[outlier(all_sparse, m = 1e-12)]\n",
    "all_sparseE.std()"
   ]
  },
  {
   "cell_type": "code",
   "execution_count": 41,
   "metadata": {},
   "outputs": [
    {
     "name": "stderr",
     "output_type": "stream",
     "text": [
      "/srv/paws/lib/python3.6/site-packages/sklearn/neural_network/_multilayer_perceptron.py:471: ConvergenceWarning: lbfgs failed to converge (status=1):\n",
      "STOP: TOTAL NO. of ITERATIONS REACHED LIMIT.\n",
      "\n",
      "Increase the number of iterations (max_iter) or scale the data as shown in:\n",
      "    https://scikit-learn.org/stable/modules/preprocessing.html\n",
      "  self.n_iter_ = _check_optimize_result(\"lbfgs\", opt_res, self.max_iter)\n"
     ]
    },
    {
     "name": "stdout",
     "output_type": "stream",
     "text": [
      "Mean squared error: 361.38\n",
      "Coefficient of determination: -1219.36\n"
     ]
    },
    {
     "data": {
      "image/png": "[encoded data removed]",
      "text/plain": [
       "<Figure size 432x288 with 1 Axes>"
      ]
     },
     "metadata": {
      "needs_background": "light"
     },
     "output_type": "display_data"
    },
    {
     "data": {
      "text/plain": [
       "(6830, 256)"
      ]
     },
     "execution_count": 41,
     "metadata": {},
     "output_type": "execute_result"
    }
   ],
   "source": [
    "from sklearn.model_selection import train_test_split\n",
    "X = pd.concat([df[\n",
    "            ['Distance', 'Rooms', 'Car', 'Price', 'YearBuilt', 'Longtitude', 'Lattitude', 'Landsize',\n",
    "            'BuildingArea', 'Propertycount', 'Bedroom2', 'Bathroom']],\n",
    "                Date, types, method, c_area, post, region\n",
    "              ], axis='columns')\n",
    "X.Longtitude -= X.Longtitude.mean() \n",
    "X.Lattitude -= X.Lattitude.mean() \n",
    "X.YearBuilt = np.log(X.YearBuilt)\n",
    "X.Bedroom2 **=2\n",
    "X.loc[:, ('Car')] = np.exp(X.loc[:, ('Car')])\n",
    "X.loc[:, ('Rooms_2')] = X.loc[:, ('Rooms')]**2\n",
    "X.loc[:,('Distance_2')] = X.loc[:,('Distance')]**2\n",
    "X.dropna( inplace=True)\n",
    "Y = np.log(X.Price)\n",
    "X.drop(columns=['Price'], axis='columns',inplace=True)\n",
    "\n",
    "X_train, X_test, Y_train, Y_test = train_test_split(X, Y, test_size=0.2)\n",
    "\n",
    "\n",
    "# Train the model using the training sets\n",
    "res = regr_mlp.fit(X_train, Y_train)\n",
    "\n",
    "# Make predictions using the testing set\n",
    "diabetes_y_pred = regr_mlp.predict(X_test)\n",
    "\n",
    "# The coefficients\n",
    "#print('Coefficients: \\n', regr.coef_)\n",
    "# The mean squared error\n",
    "print('Mean squared error: %.2f'\n",
    "      % mean_squared_error(Y_test, diabetes_y_pred))\n",
    "# The coefficient of determination: 1 is perfect prediction\n",
    "print('Coefficient of determination: %.2f'\n",
    "      % r2_score(Y_test, diabetes_y_pred))\n",
    "\n",
    "# Plot outputs\n",
    "x = X_test.YearBuilt\n",
    "plt.scatter(x, Y_test,  color='black')\n",
    "plt.plot(x, diabetes_y_pred, color=[0,0,1, 0.4], linewidth=1)\n",
    "#plt.scatter(X.columns.map(str), regr.coef_)\n",
    "plt.xticks(())\n",
    "#plt.yticks(())\n",
    "\n",
    "plt.show()\n",
    "X.shape"
   ]
  },
  {
   "cell_type": "code",
   "execution_count": null,
   "metadata": {},
   "outputs": [],
   "source": [
    "cols = X.columns[10:20]\n",
    "plt.scatter(range(len(cols)), X[cols].abs().max())\n",
    "X[cols].abs().max()"
   ]
  },
  {
   "cell_type": "code",
   "execution_count": 46,
   "metadata": {},
   "outputs": [
    {
     "data": {
      "text/plain": [
       "-1219.3585149110402"
      ]
     },
     "execution_count": 46,
     "metadata": {},
     "output_type": "execute_result"
    }
   ],
   "source": [
    "res.score(X_test, Y_test)"
   ]
  }
 ],
 "metadata": {
  "kernelspec": {
   "display_name": "Python 3",
   "language": "python",
   "name": "python3"
  },
  "language_info": {
   "codemirror_mode": {
    "name": "ipython",
    "version": 3
   },
   "file_extension": ".py",
   "mimetype": "text/x-python",
   "name": "python",
   "nbconvert_exporter": "python",
   "pygments_lexer": "ipython3",
   "version": "3.6.9"
  }
 },
 "nbformat": 4,
 "nbformat_minor": 4
}
