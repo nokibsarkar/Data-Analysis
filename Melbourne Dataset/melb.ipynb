{
 "cells": [
  {
   "cell_type": "code",
   "execution_count": null,
   "metadata": {},
   "outputs": [],
   "source": [
    "import pandas as pd\n",
    "from sklearn.preprocessing import LabelBinarizer, FunctionTransformer, Normalizer\n",
    "import matplotlib.pyplot as plt\n",
    "import numpy as np\n",
    "from datetime import datetime as dt\n",
    "from sklearn import linear_model\n",
    "# Create linear regression object\n",
    "regr = linear_model.LinearRegression()\n",
    "df = pd.read_csv('Dataset/melb_data.csv')\n",
    "def label(column, raw=False):\n",
    "    lbl = LabelBinarizer()\n",
    "    if raw:\n",
    "        lbl.fit(column)\n",
    "        return lbl\n",
    "    return pd.DataFrame(lbl.fit_transform(column), columns=lbl.classes_)\n",
    "today = dt.now().date().toordinal() \n",
    "Date = pd.Series([today - dt.strptime(i, \"%d/%m/%Y\").date().toordinal() for i in df.Date])\n",
    "Data = np.log(Date)\n",
    "df.columns"
   ]
  },
  {
   "cell_type": "code",
   "execution_count": null,
   "metadata": {},
   "outputs": [],
   "source": [
    "def outlier(column, m=1, plot = True):\n",
    "    \"\"\"My own function for detecting useful features\"\"\"\n",
    "    Y = df.Price\n",
    "    ind = []\n",
    "    #return dir(Y)\n",
    "    X = pd.concat([column,Y], axis='columns')\n",
    "    X.dropna(inplace=True)\n",
    "    Y = np.log(X[[Y.name]])\n",
    "    X.drop(['Price'], axis='columns', inplace=True)\n",
    "    regr.fit(X, Y)\n",
    "    data = regr.coef_\n",
    "    y=  data * [abs(data - np.mean(data)) > m * np.std(data)]\n",
    "    if type(y[0]) == type(y):\n",
    "        y = y[0][0]\n",
    "    y = [ ind.append(i) or a if a else None for i, a in enumerate(y) ]\n",
    "    if plot:\n",
    "        plt.scatter(X.columns.map(str),y)\n",
    "        plt.xticks(())\n",
    "    return X.columns[ind]"
   ]
  },
  {
   "cell_type": "code",
   "execution_count": null,
   "metadata": {},
   "outputs": [],
   "source": [
    "# df.Date = datter.fit_transform(df.Date)\n",
    "types = label(df.Type)\n",
    "method=label(df.Method)\n",
    "suburb = label(df.Suburb)\n",
    "df.Regionname.unique()\n",
    "region = 1 * pd.DataFrame([('North' in i, 'West' in i, 'Metropolitan' in i) for i in df.Regionname], columns=['Northern', 'Western', 'Metropolitan'])\n",
    "sellerG = label(df.SellerG)\n",
    "seller = sellerG[outlier(sellerG, plot=False)]\n",
    "suburbE = suburb[outlier(suburb, 7, plot = False)]\n",
    "\n",
    "df.loc[:,('CouncilArea')] = df.CouncilArea.fillna('Unavailable')\n",
    "c_area = label(df.CouncilArea)\n",
    "post = label(df.Postcode)\n",
    "postE = post[outlier(post, m=2, plot=True)]\n",
    "all_sparse = pd.concat([sellerG, suburb], axis=1)\n",
    "all_sparseE = all_sparse[outlier(all_sparse, m = 1, plot=False)]\n",
    "all_sparseE.std()"
   ]
  },
  {
   "cell_type": "code",
   "execution_count": null,
   "metadata": {},
   "outputs": [],
   "source": []
  },
  {
   "cell_type": "code",
   "execution_count": null,
   "metadata": {},
   "outputs": [],
   "source": []
  },
  {
   "cell_type": "code",
   "execution_count": null,
   "metadata": {},
   "outputs": [],
   "source": [
    "from sklearn.model_selection import train_test_split\n",
    "X = pd.concat([df[\n",
    "            ['Distance', 'Rooms', 'Car', 'Price', 'YearBuilt', 'Longtitude', 'Lattitude', 'Landsize',\n",
    "            'BuildingArea', 'Propertycount', 'Bedroom2', 'Bathroom']],\n",
    "                Date, types, method, c_area, post, region\n",
    "              ], axis='columns')\n",
    "X.Longtitude -= X.Longtitude.mean() \n",
    "X.Lattitude -= X.Lattitude.mean() \n",
    "X.YearBuilt = np.log(X.YearBuilt)\n",
    "X.Bedroom2 **= 2\n",
    "X.loc[:, ('Car')] = np.exp(X.loc[:, ('Car')])\n",
    "X.loc[:, ('Rooms_2')] = X.loc[:, ('Rooms')]**2\n",
    "X.loc[:,('Distance_2')] = X.loc[:,('Distance')]**2\n",
    "X.dropna( inplace=True)\n",
    "Y = np.log(X.Price)\n",
    "X.drop(columns=['Price'], axis='columns',inplace=True)\n",
    "X = X[outlier(X, 1e-9, plot=False)]\n",
    "X_train, X_test, Y_train, Y_test = train_test_split(X, Y, test_size=0.2)\n",
    "\n",
    "# Train the model using the training sets\n",
    "res = regr.fit(X_train, Y_train)\n",
    "\n",
    "# Plot coeffecients\n",
    "plt.scatter(X.columns.map(str), regr.coef_)\n",
    "plt.xticks(())\n",
    "#plt.yticks(())\n",
    "print('Accuracy : ', res.score(X_test,Y_test))\n",
    "plt.show()\n",
    "X.shape"
   ]
  },
  {
   "cell_type": "code",
   "execution_count": null,
   "metadata": {},
   "outputs": [],
   "source": [
    "Coeffecients = zip(X.columns, res.coef_)\n",
    "with open('model.csv', 'w') as fp:\n",
    "    fp.write(\n",
    "        'Features,Weight\\n' + \n",
    "        '\\n'.join(\n",
    "            [\n",
    "                print(i[1] == 0.0 and i[0]) or '\"%s\",%f' % i\n",
    "                for i in Coeffecients\n",
    "            ]\n",
    "        )\n",
    "    )"
   ]
  },
  {
   "cell_type": "code",
   "execution_count": null,
   "metadata": {},
   "outputs": [],
   "source": [
    "for i in Coeffecients:\n",
    "    print(i[1])"
   ]
  }
 ],
 "metadata": {
  "kernelspec": {
   "display_name": "Python 3",
   "language": "python",
   "name": "python3"
  },
  "language_info": {
   "codemirror_mode": {
    "name": "ipython",
    "version": 3
   },
   "file_extension": ".py",
   "mimetype": "text/x-python",
   "name": "python",
   "nbconvert_exporter": "python",
   "pygments_lexer": "ipython3",
   "version": "3.6.9"
  }
 },
 "nbformat": 4,
 "nbformat_minor": 4
}
